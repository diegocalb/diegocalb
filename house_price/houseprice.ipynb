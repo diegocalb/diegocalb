{
 "cells": [
  {
   "attachments": {},
   "cell_type": "markdown",
   "id": "402004e0",
   "metadata": {},
   "source": [
    "# House price prediction"
   ]
  },
  {
   "attachments": {},
   "cell_type": "markdown",
   "id": "300d10b7",
   "metadata": {},
   "source": [
    "### The aim of this project is to predict the price of a house based on a dataset from USA."
   ]
  },
  {
   "cell_type": "code",
   "execution_count": 6,
   "id": "b6f7e196",
   "metadata": {},
   "outputs": [],
   "source": [
    "import numpy as np\n",
    "import pandas as pd\n",
    "from sklearn.model_selection import train_test_split\n",
    "from sklearn.model_selection import GridSearchCV\n",
    "from sklearn.metrics import mean_squared_error, mean_absolute_error, max_error, explained_variance_score\n",
    "import seaborn as sns\n",
    "import matplotlib.pyplot as plt\n",
    "import lightgbm as lgb\n"
   ]
  },
  {
   "cell_type": "code",
   "execution_count": 7,
   "id": "40fac65d",
   "metadata": {},
   "outputs": [],
   "source": [
    " \n",
    "# Reading the dataset\n",
    "data = pd.read_csv('data/house_usa.csv')"
   ]
  },
  {
   "attachments": {},
   "cell_type": "markdown",
   "id": "beb623d3",
   "metadata": {},
   "source": [
    "## EDA"
   ]
  },
  {
   "cell_type": "code",
   "execution_count": 8,
   "id": "3fb1ccd2",
   "metadata": {},
   "outputs": [
    {
     "data": {
      "text/html": [
       "<div>\n",
       "<style scoped>\n",
       "    .dataframe tbody tr th:only-of-type {\n",
       "        vertical-align: middle;\n",
       "    }\n",
       "\n",
       "    .dataframe tbody tr th {\n",
       "        vertical-align: top;\n",
       "    }\n",
       "\n",
       "    .dataframe thead th {\n",
       "        text-align: right;\n",
       "    }\n",
       "</style>\n",
       "<table border=\"1\" class=\"dataframe\">\n",
       "  <thead>\n",
       "    <tr style=\"text-align: right;\">\n",
       "      <th></th>\n",
       "      <th>price</th>\n",
       "      <th>bedrooms</th>\n",
       "      <th>bathrooms</th>\n",
       "      <th>sqft_living</th>\n",
       "      <th>sqft_lot</th>\n",
       "      <th>floors</th>\n",
       "      <th>waterfront</th>\n",
       "      <th>condition</th>\n",
       "      <th>sqft_above</th>\n",
       "      <th>sqft_basement</th>\n",
       "      <th>yr_built</th>\n",
       "      <th>yr_renovated</th>\n",
       "      <th>city</th>\n",
       "    </tr>\n",
       "  </thead>\n",
       "  <tbody>\n",
       "    <tr>\n",
       "      <th>0</th>\n",
       "      <td>313000.0</td>\n",
       "      <td>3.0</td>\n",
       "      <td>1.50</td>\n",
       "      <td>1340</td>\n",
       "      <td>7912</td>\n",
       "      <td>1.5</td>\n",
       "      <td>0</td>\n",
       "      <td>3</td>\n",
       "      <td>1340</td>\n",
       "      <td>0</td>\n",
       "      <td>1955</td>\n",
       "      <td>2005</td>\n",
       "      <td>Shoreline</td>\n",
       "    </tr>\n",
       "    <tr>\n",
       "      <th>1</th>\n",
       "      <td>342000.0</td>\n",
       "      <td>3.0</td>\n",
       "      <td>2.00</td>\n",
       "      <td>1930</td>\n",
       "      <td>11947</td>\n",
       "      <td>1.0</td>\n",
       "      <td>0</td>\n",
       "      <td>4</td>\n",
       "      <td>1930</td>\n",
       "      <td>0</td>\n",
       "      <td>1966</td>\n",
       "      <td>0</td>\n",
       "      <td>Kent</td>\n",
       "    </tr>\n",
       "    <tr>\n",
       "      <th>2</th>\n",
       "      <td>420000.0</td>\n",
       "      <td>3.0</td>\n",
       "      <td>2.25</td>\n",
       "      <td>2000</td>\n",
       "      <td>8030</td>\n",
       "      <td>1.0</td>\n",
       "      <td>0</td>\n",
       "      <td>4</td>\n",
       "      <td>1000</td>\n",
       "      <td>1000</td>\n",
       "      <td>1963</td>\n",
       "      <td>0</td>\n",
       "      <td>Bellevue</td>\n",
       "    </tr>\n",
       "    <tr>\n",
       "      <th>3</th>\n",
       "      <td>550000.0</td>\n",
       "      <td>4.0</td>\n",
       "      <td>2.50</td>\n",
       "      <td>1940</td>\n",
       "      <td>10500</td>\n",
       "      <td>1.0</td>\n",
       "      <td>0</td>\n",
       "      <td>4</td>\n",
       "      <td>1140</td>\n",
       "      <td>800</td>\n",
       "      <td>1976</td>\n",
       "      <td>1992</td>\n",
       "      <td>Redmond</td>\n",
       "    </tr>\n",
       "    <tr>\n",
       "      <th>4</th>\n",
       "      <td>490000.0</td>\n",
       "      <td>2.0</td>\n",
       "      <td>1.00</td>\n",
       "      <td>880</td>\n",
       "      <td>6380</td>\n",
       "      <td>1.0</td>\n",
       "      <td>0</td>\n",
       "      <td>3</td>\n",
       "      <td>880</td>\n",
       "      <td>0</td>\n",
       "      <td>1938</td>\n",
       "      <td>1994</td>\n",
       "      <td>Seattle</td>\n",
       "    </tr>\n",
       "  </tbody>\n",
       "</table>\n",
       "</div>"
      ],
      "text/plain": [
       "      price  bedrooms  bathrooms  sqft_living  sqft_lot  floors  waterfront  \\\n",
       "0  313000.0       3.0       1.50         1340      7912     1.5           0   \n",
       "1  342000.0       3.0       2.00         1930     11947     1.0           0   \n",
       "2  420000.0       3.0       2.25         2000      8030     1.0           0   \n",
       "3  550000.0       4.0       2.50         1940     10500     1.0           0   \n",
       "4  490000.0       2.0       1.00          880      6380     1.0           0   \n",
       "\n",
       "   condition  sqft_above  sqft_basement  yr_built  yr_renovated       city  \n",
       "0          3        1340              0      1955          2005  Shoreline  \n",
       "1          4        1930              0      1966             0       Kent  \n",
       "2          4        1000           1000      1963             0   Bellevue  \n",
       "3          4        1140            800      1976          1992    Redmond  \n",
       "4          3         880              0      1938          1994    Seattle  "
      ]
     },
     "execution_count": 8,
     "metadata": {},
     "output_type": "execute_result"
    }
   ],
   "source": [
    "data.head()"
   ]
  },
  {
   "cell_type": "code",
   "execution_count": 9,
   "id": "ad81b74c",
   "metadata": {},
   "outputs": [
    {
     "data": {
      "text/plain": [
       "(4377, 13)"
      ]
     },
     "execution_count": 9,
     "metadata": {},
     "output_type": "execute_result"
    }
   ],
   "source": [
    "data.shape"
   ]
  },
  {
   "cell_type": "code",
   "execution_count": 10,
   "id": "4ee2ecae",
   "metadata": {},
   "outputs": [
    {
     "data": {
      "text/plain": [
       "price            float64\n",
       "bedrooms         float64\n",
       "bathrooms        float64\n",
       "sqft_living        int64\n",
       "sqft_lot           int64\n",
       "floors           float64\n",
       "waterfront         int64\n",
       "condition          int64\n",
       "sqft_above         int64\n",
       "sqft_basement      int64\n",
       "yr_built           int64\n",
       "yr_renovated       int64\n",
       "city              object\n",
       "dtype: object"
      ]
     },
     "execution_count": 10,
     "metadata": {},
     "output_type": "execute_result"
    }
   ],
   "source": [
    "data.dtypes"
   ]
  },
  {
   "cell_type": "code",
   "execution_count": 11,
   "id": "190fffab",
   "metadata": {},
   "outputs": [
    {
     "data": {
      "text/html": [
       "<div>\n",
       "<style scoped>\n",
       "    .dataframe tbody tr th:only-of-type {\n",
       "        vertical-align: middle;\n",
       "    }\n",
       "\n",
       "    .dataframe tbody tr th {\n",
       "        vertical-align: top;\n",
       "    }\n",
       "\n",
       "    .dataframe thead th {\n",
       "        text-align: right;\n",
       "    }\n",
       "</style>\n",
       "<table border=\"1\" class=\"dataframe\">\n",
       "  <thead>\n",
       "    <tr style=\"text-align: right;\">\n",
       "      <th></th>\n",
       "      <th>price</th>\n",
       "      <th>bedrooms</th>\n",
       "      <th>bathrooms</th>\n",
       "      <th>sqft_living</th>\n",
       "      <th>sqft_lot</th>\n",
       "      <th>floors</th>\n",
       "      <th>waterfront</th>\n",
       "      <th>condition</th>\n",
       "      <th>sqft_above</th>\n",
       "      <th>sqft_basement</th>\n",
       "      <th>yr_built</th>\n",
       "      <th>yr_renovated</th>\n",
       "    </tr>\n",
       "  </thead>\n",
       "  <tbody>\n",
       "    <tr>\n",
       "      <th>count</th>\n",
       "      <td>4.377000e+03</td>\n",
       "      <td>4377.000000</td>\n",
       "      <td>4377.000000</td>\n",
       "      <td>4377.00000</td>\n",
       "      <td>4.377000e+03</td>\n",
       "      <td>4377.000000</td>\n",
       "      <td>4377.000000</td>\n",
       "      <td>4377.000000</td>\n",
       "      <td>4377.000000</td>\n",
       "      <td>4377.000000</td>\n",
       "      <td>4377.000000</td>\n",
       "      <td>4377.000000</td>\n",
       "    </tr>\n",
       "    <tr>\n",
       "      <th>mean</th>\n",
       "      <td>4.846856e+05</td>\n",
       "      <td>3.360292</td>\n",
       "      <td>2.104352</td>\n",
       "      <td>2043.81517</td>\n",
       "      <td>1.461526e+04</td>\n",
       "      <td>1.496459</td>\n",
       "      <td>0.004569</td>\n",
       "      <td>3.447110</td>\n",
       "      <td>1756.235778</td>\n",
       "      <td>287.579392</td>\n",
       "      <td>1970.865661</td>\n",
       "      <td>810.642678</td>\n",
       "    </tr>\n",
       "    <tr>\n",
       "      <th>std</th>\n",
       "      <td>2.243187e+05</td>\n",
       "      <td>0.886216</td>\n",
       "      <td>0.726282</td>\n",
       "      <td>825.97383</td>\n",
       "      <td>3.599514e+04</td>\n",
       "      <td>0.536530</td>\n",
       "      <td>0.067450</td>\n",
       "      <td>0.672319</td>\n",
       "      <td>776.224021</td>\n",
       "      <td>426.548380</td>\n",
       "      <td>29.499012</td>\n",
       "      <td>979.834085</td>\n",
       "    </tr>\n",
       "    <tr>\n",
       "      <th>min</th>\n",
       "      <td>0.000000e+00</td>\n",
       "      <td>0.000000</td>\n",
       "      <td>0.000000</td>\n",
       "      <td>370.00000</td>\n",
       "      <td>6.380000e+02</td>\n",
       "      <td>1.000000</td>\n",
       "      <td>0.000000</td>\n",
       "      <td>1.000000</td>\n",
       "      <td>370.000000</td>\n",
       "      <td>0.000000</td>\n",
       "      <td>1900.000000</td>\n",
       "      <td>0.000000</td>\n",
       "    </tr>\n",
       "    <tr>\n",
       "      <th>25%</th>\n",
       "      <td>3.150000e+05</td>\n",
       "      <td>3.000000</td>\n",
       "      <td>1.750000</td>\n",
       "      <td>1440.00000</td>\n",
       "      <td>5.000000e+03</td>\n",
       "      <td>1.000000</td>\n",
       "      <td>0.000000</td>\n",
       "      <td>3.000000</td>\n",
       "      <td>1170.000000</td>\n",
       "      <td>0.000000</td>\n",
       "      <td>1951.000000</td>\n",
       "      <td>0.000000</td>\n",
       "    </tr>\n",
       "    <tr>\n",
       "      <th>50%</th>\n",
       "      <td>4.499500e+05</td>\n",
       "      <td>3.000000</td>\n",
       "      <td>2.250000</td>\n",
       "      <td>1930.00000</td>\n",
       "      <td>7.573000e+03</td>\n",
       "      <td>1.500000</td>\n",
       "      <td>0.000000</td>\n",
       "      <td>3.000000</td>\n",
       "      <td>1540.000000</td>\n",
       "      <td>0.000000</td>\n",
       "      <td>1975.000000</td>\n",
       "      <td>0.000000</td>\n",
       "    </tr>\n",
       "    <tr>\n",
       "      <th>75%</th>\n",
       "      <td>6.150000e+05</td>\n",
       "      <td>4.000000</td>\n",
       "      <td>2.500000</td>\n",
       "      <td>2520.00000</td>\n",
       "      <td>1.073100e+04</td>\n",
       "      <td>2.000000</td>\n",
       "      <td>0.000000</td>\n",
       "      <td>4.000000</td>\n",
       "      <td>2210.000000</td>\n",
       "      <td>580.000000</td>\n",
       "      <td>1996.000000</td>\n",
       "      <td>1999.000000</td>\n",
       "    </tr>\n",
       "    <tr>\n",
       "      <th>max</th>\n",
       "      <td>1.198000e+06</td>\n",
       "      <td>9.000000</td>\n",
       "      <td>6.250000</td>\n",
       "      <td>8020.00000</td>\n",
       "      <td>1.074218e+06</td>\n",
       "      <td>3.500000</td>\n",
       "      <td>1.000000</td>\n",
       "      <td>5.000000</td>\n",
       "      <td>8020.000000</td>\n",
       "      <td>2300.000000</td>\n",
       "      <td>2014.000000</td>\n",
       "      <td>2014.000000</td>\n",
       "    </tr>\n",
       "  </tbody>\n",
       "</table>\n",
       "</div>"
      ],
      "text/plain": [
       "              price     bedrooms    bathrooms  sqft_living      sqft_lot  \\\n",
       "count  4.377000e+03  4377.000000  4377.000000   4377.00000  4.377000e+03   \n",
       "mean   4.846856e+05     3.360292     2.104352   2043.81517  1.461526e+04   \n",
       "std    2.243187e+05     0.886216     0.726282    825.97383  3.599514e+04   \n",
       "min    0.000000e+00     0.000000     0.000000    370.00000  6.380000e+02   \n",
       "25%    3.150000e+05     3.000000     1.750000   1440.00000  5.000000e+03   \n",
       "50%    4.499500e+05     3.000000     2.250000   1930.00000  7.573000e+03   \n",
       "75%    6.150000e+05     4.000000     2.500000   2520.00000  1.073100e+04   \n",
       "max    1.198000e+06     9.000000     6.250000   8020.00000  1.074218e+06   \n",
       "\n",
       "            floors   waterfront    condition   sqft_above  sqft_basement  \\\n",
       "count  4377.000000  4377.000000  4377.000000  4377.000000    4377.000000   \n",
       "mean      1.496459     0.004569     3.447110  1756.235778     287.579392   \n",
       "std       0.536530     0.067450     0.672319   776.224021     426.548380   \n",
       "min       1.000000     0.000000     1.000000   370.000000       0.000000   \n",
       "25%       1.000000     0.000000     3.000000  1170.000000       0.000000   \n",
       "50%       1.500000     0.000000     3.000000  1540.000000       0.000000   \n",
       "75%       2.000000     0.000000     4.000000  2210.000000     580.000000   \n",
       "max       3.500000     1.000000     5.000000  8020.000000    2300.000000   \n",
       "\n",
       "          yr_built  yr_renovated  \n",
       "count  4377.000000   4377.000000  \n",
       "mean   1970.865661    810.642678  \n",
       "std      29.499012    979.834085  \n",
       "min    1900.000000      0.000000  \n",
       "25%    1951.000000      0.000000  \n",
       "50%    1975.000000      0.000000  \n",
       "75%    1996.000000   1999.000000  \n",
       "max    2014.000000   2014.000000  "
      ]
     },
     "execution_count": 11,
     "metadata": {},
     "output_type": "execute_result"
    }
   ],
   "source": [
    "data.describe()"
   ]
  },
  {
   "cell_type": "code",
   "execution_count": 12,
   "id": "b3c19e76",
   "metadata": {},
   "outputs": [
    {
     "data": {
      "text/plain": [
       "price            0\n",
       "bedrooms         0\n",
       "bathrooms        0\n",
       "sqft_living      0\n",
       "sqft_lot         0\n",
       "floors           0\n",
       "waterfront       0\n",
       "condition        0\n",
       "sqft_above       0\n",
       "sqft_basement    0\n",
       "yr_built         0\n",
       "yr_renovated     0\n",
       "city             0\n",
       "dtype: int64"
      ]
     },
     "execution_count": 12,
     "metadata": {},
     "output_type": "execute_result"
    }
   ],
   "source": [
    "data.isna().sum()"
   ]
  },
  {
   "cell_type": "code",
   "execution_count": 13,
   "id": "463cf9c5",
   "metadata": {},
   "outputs": [],
   "source": [
    "data_numeric=data.drop('city', axis='columns')"
   ]
  },
  {
   "cell_type": "code",
   "execution_count": 14,
   "id": "9cbddddb",
   "metadata": {},
   "outputs": [
    {
     "data": {
      "text/plain": [
       "<AxesSubplot:>"
      ]
     },
     "execution_count": 14,
     "metadata": {},
     "output_type": "execute_result"
    },
    {
     "data": {
      "image/png": "[encoded data removed]",
      "text/plain": [
       "<Figure size 1000x800 with 2 Axes>"
      ]
     },
     "metadata": {},
     "output_type": "display_data"
    }
   ],
   "source": [
    "plt.figure(figsize=(10, 8))\n",
    "sns.heatmap(data_numeric.corr(), cmap=\"YlGnBu\", annot=True)"
   ]
  },
  {
   "attachments": {},
   "cell_type": "markdown",
   "id": "b3f08bdc",
   "metadata": {},
   "source": [
    "It seems that Waterfront and condition have no correlation with price so I would not included in this analysis.\n",
    "Also, sqft_above and swft_living have a high correlation so I would keep only the latter."
   ]
  },
  {
   "cell_type": "code",
   "execution_count": 15,
   "id": "5ee37500",
   "metadata": {},
   "outputs": [],
   "source": [
    "data_numeric.drop(['waterfront', 'condition', 'sqft_above'], axis='columns', inplace=True)"
   ]
  },
  {
   "cell_type": "code",
   "execution_count": 16,
   "id": "50cfe6cb",
   "metadata": {},
   "outputs": [
    {
     "data": {
      "image/png": "[encoded data removed]",
      "text/plain": [
       "<Figure size 640x480 with 1 Axes>"
      ]
     },
     "metadata": {},
     "output_type": "display_data"
    }
   ],
   "source": [
    "sns.boxplot(data=data_numeric, y='price')\n",
    "plt.ticklabel_format(style='plain', axis='y')"
   ]
  },
  {
   "cell_type": "code",
   "execution_count": 17,
   "id": "1d4c8a7f",
   "metadata": {},
   "outputs": [
    {
     "data": {
      "text/plain": [
       "Index(['price', 'bedrooms', 'bathrooms', 'sqft_living', 'sqft_lot', 'floors',\n",
       "       'sqft_basement', 'yr_built', 'yr_renovated'],\n",
       "      dtype='object')"
      ]
     },
     "execution_count": 17,
     "metadata": {},
     "output_type": "execute_result"
    }
   ],
   "source": [
    "data_numeric.columns"
   ]
  },
  {
   "cell_type": "code",
   "execution_count": 18,
   "id": "284b3fdb",
   "metadata": {},
   "outputs": [
    {
     "data": {
      "text/html": [
       "<div>\n",
       "<style scoped>\n",
       "    .dataframe tbody tr th:only-of-type {\n",
       "        vertical-align: middle;\n",
       "    }\n",
       "\n",
       "    .dataframe tbody tr th {\n",
       "        vertical-align: top;\n",
       "    }\n",
       "\n",
       "    .dataframe thead th {\n",
       "        text-align: right;\n",
       "    }\n",
       "</style>\n",
       "<table border=\"1\" class=\"dataframe\">\n",
       "  <thead>\n",
       "    <tr style=\"text-align: right;\">\n",
       "      <th></th>\n",
       "      <th>price</th>\n",
       "      <th>bedrooms</th>\n",
       "      <th>bathrooms</th>\n",
       "      <th>sqft_living</th>\n",
       "      <th>sqft_lot</th>\n",
       "      <th>floors</th>\n",
       "      <th>sqft_basement</th>\n",
       "      <th>yr_built</th>\n",
       "      <th>yr_renovated</th>\n",
       "    </tr>\n",
       "  </thead>\n",
       "  <tbody>\n",
       "    <tr>\n",
       "      <th>0</th>\n",
       "      <td>313000.000000</td>\n",
       "      <td>3.0</td>\n",
       "      <td>1.50</td>\n",
       "      <td>1340</td>\n",
       "      <td>7912</td>\n",
       "      <td>1.5</td>\n",
       "      <td>0</td>\n",
       "      <td>1955</td>\n",
       "      <td>2005</td>\n",
       "    </tr>\n",
       "    <tr>\n",
       "      <th>1</th>\n",
       "      <td>342000.000000</td>\n",
       "      <td>3.0</td>\n",
       "      <td>2.00</td>\n",
       "      <td>1930</td>\n",
       "      <td>11947</td>\n",
       "      <td>1.0</td>\n",
       "      <td>0</td>\n",
       "      <td>1966</td>\n",
       "      <td>1966</td>\n",
       "    </tr>\n",
       "    <tr>\n",
       "      <th>2</th>\n",
       "      <td>420000.000000</td>\n",
       "      <td>3.0</td>\n",
       "      <td>2.25</td>\n",
       "      <td>2000</td>\n",
       "      <td>8030</td>\n",
       "      <td>1.0</td>\n",
       "      <td>1000</td>\n",
       "      <td>1963</td>\n",
       "      <td>1963</td>\n",
       "    </tr>\n",
       "    <tr>\n",
       "      <th>3</th>\n",
       "      <td>550000.000000</td>\n",
       "      <td>4.0</td>\n",
       "      <td>2.50</td>\n",
       "      <td>1940</td>\n",
       "      <td>10500</td>\n",
       "      <td>1.0</td>\n",
       "      <td>800</td>\n",
       "      <td>1976</td>\n",
       "      <td>1992</td>\n",
       "    </tr>\n",
       "    <tr>\n",
       "      <th>4</th>\n",
       "      <td>490000.000000</td>\n",
       "      <td>2.0</td>\n",
       "      <td>1.00</td>\n",
       "      <td>880</td>\n",
       "      <td>6380</td>\n",
       "      <td>1.0</td>\n",
       "      <td>0</td>\n",
       "      <td>1938</td>\n",
       "      <td>1994</td>\n",
       "    </tr>\n",
       "    <tr>\n",
       "      <th>...</th>\n",
       "      <td>...</td>\n",
       "      <td>...</td>\n",
       "      <td>...</td>\n",
       "      <td>...</td>\n",
       "      <td>...</td>\n",
       "      <td>...</td>\n",
       "      <td>...</td>\n",
       "      <td>...</td>\n",
       "      <td>...</td>\n",
       "    </tr>\n",
       "    <tr>\n",
       "      <th>4372</th>\n",
       "      <td>308166.666667</td>\n",
       "      <td>3.0</td>\n",
       "      <td>1.75</td>\n",
       "      <td>1510</td>\n",
       "      <td>6360</td>\n",
       "      <td>1.0</td>\n",
       "      <td>0</td>\n",
       "      <td>1954</td>\n",
       "      <td>1979</td>\n",
       "    </tr>\n",
       "    <tr>\n",
       "      <th>4373</th>\n",
       "      <td>534333.333333</td>\n",
       "      <td>3.0</td>\n",
       "      <td>2.50</td>\n",
       "      <td>1460</td>\n",
       "      <td>7573</td>\n",
       "      <td>2.0</td>\n",
       "      <td>0</td>\n",
       "      <td>1983</td>\n",
       "      <td>2009</td>\n",
       "    </tr>\n",
       "    <tr>\n",
       "      <th>4374</th>\n",
       "      <td>416904.166667</td>\n",
       "      <td>3.0</td>\n",
       "      <td>2.50</td>\n",
       "      <td>3010</td>\n",
       "      <td>7014</td>\n",
       "      <td>2.0</td>\n",
       "      <td>0</td>\n",
       "      <td>2009</td>\n",
       "      <td>2009</td>\n",
       "    </tr>\n",
       "    <tr>\n",
       "      <th>4375</th>\n",
       "      <td>203400.000000</td>\n",
       "      <td>4.0</td>\n",
       "      <td>2.00</td>\n",
       "      <td>2090</td>\n",
       "      <td>6630</td>\n",
       "      <td>1.0</td>\n",
       "      <td>1020</td>\n",
       "      <td>1974</td>\n",
       "      <td>1974</td>\n",
       "    </tr>\n",
       "    <tr>\n",
       "      <th>4376</th>\n",
       "      <td>220600.000000</td>\n",
       "      <td>3.0</td>\n",
       "      <td>2.50</td>\n",
       "      <td>1490</td>\n",
       "      <td>8102</td>\n",
       "      <td>2.0</td>\n",
       "      <td>0</td>\n",
       "      <td>1990</td>\n",
       "      <td>1990</td>\n",
       "    </tr>\n",
       "  </tbody>\n",
       "</table>\n",
       "<p>4377 rows × 9 columns</p>\n",
       "</div>"
      ],
      "text/plain": [
       "              price  bedrooms  bathrooms  sqft_living  sqft_lot  floors  \\\n",
       "0     313000.000000       3.0       1.50         1340      7912     1.5   \n",
       "1     342000.000000       3.0       2.00         1930     11947     1.0   \n",
       "2     420000.000000       3.0       2.25         2000      8030     1.0   \n",
       "3     550000.000000       4.0       2.50         1940     10500     1.0   \n",
       "4     490000.000000       2.0       1.00          880      6380     1.0   \n",
       "...             ...       ...        ...          ...       ...     ...   \n",
       "4372  308166.666667       3.0       1.75         1510      6360     1.0   \n",
       "4373  534333.333333       3.0       2.50         1460      7573     2.0   \n",
       "4374  416904.166667       3.0       2.50         3010      7014     2.0   \n",
       "4375  203400.000000       4.0       2.00         2090      6630     1.0   \n",
       "4376  220600.000000       3.0       2.50         1490      8102     2.0   \n",
       "\n",
       "      sqft_basement  yr_built  yr_renovated  \n",
       "0                 0      1955          2005  \n",
       "1                 0      1966          1966  \n",
       "2              1000      1963          1963  \n",
       "3               800      1976          1992  \n",
       "4                 0      1938          1994  \n",
       "...             ...       ...           ...  \n",
       "4372              0      1954          1979  \n",
       "4373              0      1983          2009  \n",
       "4374              0      2009          2009  \n",
       "4375           1020      1974          1974  \n",
       "4376              0      1990          1990  \n",
       "\n",
       "[4377 rows x 9 columns]"
      ]
     },
     "execution_count": 18,
     "metadata": {},
     "output_type": "execute_result"
    }
   ],
   "source": [
    "data_numeric['yr_renovated'].mask(data_numeric['yr_renovated'] == 0, data_numeric['yr_built'], inplace=True)\n",
    "data_numeric\n"
   ]
  },
  {
   "cell_type": "code",
   "execution_count": 19,
   "id": "c141eecd",
   "metadata": {},
   "outputs": [],
   "source": [
    "data_numeric['total_m2'] = data_numeric['sqft_living']/10.764\n",
    "data_numeric['lot_m2'] = data_numeric['sqft_lot']/10.764\n",
    "data_numeric['basement_m2'] = data_numeric['sqft_basement']/10.764\n",
    "data_numeric = data_numeric.astype({'bathrooms':int, 'total_m2':int, 'lot_m2':int, 'basement_m2':int, 'bedrooms': int})\n",
    "data_numeric['age'] = 2023 - data_numeric['yr_built']\n",
    "data_numeric['age_renovated'] = 2023 - data_numeric['yr_renovated']"
   ]
  },
  {
   "cell_type": "code",
   "execution_count": 20,
   "id": "9ecf9860",
   "metadata": {},
   "outputs": [
    {
     "data": {
      "text/html": [
       "<div>\n",
       "<style scoped>\n",
       "    .dataframe tbody tr th:only-of-type {\n",
       "        vertical-align: middle;\n",
       "    }\n",
       "\n",
       "    .dataframe tbody tr th {\n",
       "        vertical-align: top;\n",
       "    }\n",
       "\n",
       "    .dataframe thead th {\n",
       "        text-align: right;\n",
       "    }\n",
       "</style>\n",
       "<table border=\"1\" class=\"dataframe\">\n",
       "  <thead>\n",
       "    <tr style=\"text-align: right;\">\n",
       "      <th></th>\n",
       "      <th>price</th>\n",
       "      <th>bedrooms</th>\n",
       "      <th>bathrooms</th>\n",
       "      <th>floors</th>\n",
       "      <th>total_m2</th>\n",
       "      <th>lot_m2</th>\n",
       "      <th>basement_m2</th>\n",
       "      <th>age</th>\n",
       "      <th>age_renovated</th>\n",
       "    </tr>\n",
       "  </thead>\n",
       "  <tbody>\n",
       "    <tr>\n",
       "      <th>0</th>\n",
       "      <td>313000.0</td>\n",
       "      <td>3</td>\n",
       "      <td>1</td>\n",
       "      <td>1.5</td>\n",
       "      <td>124</td>\n",
       "      <td>735</td>\n",
       "      <td>0</td>\n",
       "      <td>68</td>\n",
       "      <td>18</td>\n",
       "    </tr>\n",
       "    <tr>\n",
       "      <th>1</th>\n",
       "      <td>342000.0</td>\n",
       "      <td>3</td>\n",
       "      <td>2</td>\n",
       "      <td>1.0</td>\n",
       "      <td>179</td>\n",
       "      <td>1109</td>\n",
       "      <td>0</td>\n",
       "      <td>57</td>\n",
       "      <td>57</td>\n",
       "    </tr>\n",
       "    <tr>\n",
       "      <th>2</th>\n",
       "      <td>420000.0</td>\n",
       "      <td>3</td>\n",
       "      <td>2</td>\n",
       "      <td>1.0</td>\n",
       "      <td>185</td>\n",
       "      <td>746</td>\n",
       "      <td>92</td>\n",
       "      <td>60</td>\n",
       "      <td>60</td>\n",
       "    </tr>\n",
       "    <tr>\n",
       "      <th>3</th>\n",
       "      <td>550000.0</td>\n",
       "      <td>4</td>\n",
       "      <td>2</td>\n",
       "      <td>1.0</td>\n",
       "      <td>180</td>\n",
       "      <td>975</td>\n",
       "      <td>74</td>\n",
       "      <td>47</td>\n",
       "      <td>31</td>\n",
       "    </tr>\n",
       "    <tr>\n",
       "      <th>4</th>\n",
       "      <td>490000.0</td>\n",
       "      <td>2</td>\n",
       "      <td>1</td>\n",
       "      <td>1.0</td>\n",
       "      <td>81</td>\n",
       "      <td>592</td>\n",
       "      <td>0</td>\n",
       "      <td>85</td>\n",
       "      <td>29</td>\n",
       "    </tr>\n",
       "  </tbody>\n",
       "</table>\n",
       "</div>"
      ],
      "text/plain": [
       "      price  bedrooms  bathrooms  floors  total_m2  lot_m2  basement_m2  age  \\\n",
       "0  313000.0         3          1     1.5       124     735            0   68   \n",
       "1  342000.0         3          2     1.0       179    1109            0   57   \n",
       "2  420000.0         3          2     1.0       185     746           92   60   \n",
       "3  550000.0         4          2     1.0       180     975           74   47   \n",
       "4  490000.0         2          1     1.0        81     592            0   85   \n",
       "\n",
       "   age_renovated  \n",
       "0             18  \n",
       "1             57  \n",
       "2             60  \n",
       "3             31  \n",
       "4             29  "
      ]
     },
     "execution_count": 20,
     "metadata": {},
     "output_type": "execute_result"
    }
   ],
   "source": [
    "data_numeric.drop(['sqft_living', 'sqft_lot', 'sqft_basement', 'yr_built', 'yr_renovated'], axis='columns', inplace=True)\n",
    "data_numeric.head()"
   ]
  },
  {
   "cell_type": "code",
   "execution_count": 21,
   "id": "730a9aa2",
   "metadata": {},
   "outputs": [
    {
     "data": {
      "image/png": "[encoded data removed]",
      "text/plain": [
       "<Figure size 640x480 with 1 Axes>"
      ]
     },
     "metadata": {},
     "output_type": "display_data"
    }
   ],
   "source": [
    "sns.boxplot(data=data_numeric, y='total_m2')\n",
    "plt.ticklabel_format(style='plain', axis='y')"
   ]
  },
  {
   "cell_type": "markdown",
   "id": "e97603f1",
   "metadata": {},
   "source": [
    "There are some outliers in m2 column so I'll remove them."
   ]
  },
  {
   "cell_type": "code",
   "execution_count": 22,
   "id": "a396af63",
   "metadata": {},
   "outputs": [
    {
     "name": "stderr",
     "output_type": "stream",
     "text": [
      "/tmp/ipykernel_106173/841108852.py:1: DeprecationWarning: the `interpolation=` argument to percentile was renamed to `method=`, which has additional options.\n",
      "Users of the modes 'nearest', 'lower', 'higher', or 'midpoint' are encouraged to review the method they. (Deprecated NumPy 1.22)\n",
      "  Q1 = np.percentile(data_numeric['total_m2'], 25,\n",
      "/tmp/ipykernel_106173/841108852.py:4: DeprecationWarning: the `interpolation=` argument to percentile was renamed to `method=`, which has additional options.\n",
      "Users of the modes 'nearest', 'lower', 'higher', or 'midpoint' are encouraged to review the method they. (Deprecated NumPy 1.22)\n",
      "  Q3 = np.percentile(data_numeric['total_m2'], 75,\n"
     ]
    },
    {
     "data": {
      "text/plain": [
       "(4301, 9)"
      ]
     },
     "execution_count": 22,
     "metadata": {},
     "output_type": "execute_result"
    }
   ],
   "source": [
    "Q1 = np.percentile(data_numeric['total_m2'], 25,\n",
    "                   interpolation = 'midpoint')\n",
    " \n",
    "Q3 = np.percentile(data_numeric['total_m2'], 75,\n",
    "                   interpolation = 'midpoint')\n",
    "IQR = Q3 - Q1\n",
    "  \n",
    "# Upper bound\n",
    "upper=Q3+1.5*IQR\n",
    "# Lower bound\n",
    "lower=Q1-1.5*IQR\n",
    "# Removing the outliers\n",
    "data_numeric = data_numeric[(data_numeric.total_m2<upper) & (data_numeric.total_m2>lower)]\n",
    "data_numeric.shape"
   ]
  },
  {
   "attachments": {},
   "cell_type": "markdown",
   "id": "31e14803",
   "metadata": {},
   "source": [
    "## LGBoost"
   ]
  },
  {
   "cell_type": "code",
   "execution_count": 23,
   "id": "31444112",
   "metadata": {},
   "outputs": [],
   "source": [
    "# Seperating the target and features\n",
    "# target ->y, features -> X\n",
    "y = data_numeric['price']\n",
    "X = data_numeric.drop('price', axis='columns')"
   ]
  },
  {
   "cell_type": "code",
   "execution_count": 24,
   "id": "f6ceb292",
   "metadata": {},
   "outputs": [],
   "source": [
    "# Splitting into training and test set\n",
    "X_train, X_test, y_train, y_test = train_test_split(X, y, test_size=0.3, random_state=1)"
   ]
  },
  {
   "cell_type": "code",
   "execution_count": 25,
   "id": "40db0bef",
   "metadata": {},
   "outputs": [],
   "source": [
    "param_grid = {\n",
    "    'learning_rate': [0.1, 0.01],\n",
    "    'n_estimators': [50, 100, 150],\n",
    "    'max_depth': [4, 6],\n",
    "    'colsample_bytree': [0.7, 0.8, 0.9],\n",
    "    'subsample': [0.7, 0.8, 0.9],\n",
    "    'min_child_samples': [1, 5, 10]\n",
    "}"
   ]
  },
  {
   "cell_type": "code",
   "execution_count": 26,
   "id": "79f7730a",
   "metadata": {},
   "outputs": [],
   "source": [
    "estimator = lgb.LGBMRegressor(objective='regression', \n",
    "                            random_state=101)"
   ]
  },
  {
   "cell_type": "code",
   "execution_count": 27,
   "id": "1f00770b",
   "metadata": {},
   "outputs": [
    {
     "data": {
      "text/plain": [
       "GridSearchCV(cv=3,\n",
       "             estimator=LGBMRegressor(objective='regression', random_state=101),\n",
       "             n_jobs=-1,\n",
       "             param_grid={'colsample_bytree': [0.7, 0.8, 0.9],\n",
       "                         'learning_rate': [0.1, 0.01], 'max_depth': [4, 6],\n",
       "                         'min_child_samples': [1, 5, 10],\n",
       "                         'n_estimators': [50, 100, 150],\n",
       "                         'subsample': [0.7, 0.8, 0.9]},\n",
       "             scoring='neg_root_mean_squared_error')"
      ]
     },
     "execution_count": 27,
     "metadata": {},
     "output_type": "execute_result"
    }
   ],
   "source": [
    "model = GridSearchCV(estimator=estimator, \n",
    "                    param_grid=param_grid,\n",
    "                    cv=3, \n",
    "                    n_jobs=-1, \n",
    "                    scoring='neg_root_mean_squared_error')\n",
    "model.fit(X_train, y_train)"
   ]
  },
  {
   "cell_type": "code",
   "execution_count": 28,
   "id": "d87e9e2f",
   "metadata": {},
   "outputs": [
    {
     "name": "stdout",
     "output_type": "stream",
     "text": [
      "LGBMRegressor(colsample_bytree=0.9, max_depth=4, min_child_samples=5,\n",
      "              n_estimators=50, objective='regression', random_state=101,\n",
      "              subsample=0.7)\n"
     ]
    }
   ],
   "source": [
    "best_params = model.best_estimator_\n",
    "print(best_params)"
   ]
  },
  {
   "cell_type": "code",
   "execution_count": 29,
   "id": "4435ce7e",
   "metadata": {},
   "outputs": [],
   "source": [
    "best_model = lgb.LGBMRegressor(colsample_bytree=0.9, \n",
    "                               max_depth=4, \n",
    "                               min_child_samples=5,\n",
    "                               n_estimators=50, \n",
    "                               objective='regression', \n",
    "                               random_state=101,\n",
    "                               subsample=0.7)"
   ]
  },
  {
   "cell_type": "code",
   "execution_count": 30,
   "id": "a7fbbe88",
   "metadata": {},
   "outputs": [
    {
     "data": {
      "text/plain": [
       "LGBMRegressor(colsample_bytree=0.9, max_depth=4, min_child_samples=5,\n",
       "              n_estimators=50, objective='regression', random_state=101,\n",
       "              subsample=0.7)"
      ]
     },
     "execution_count": 30,
     "metadata": {},
     "output_type": "execute_result"
    }
   ],
   "source": [
    "best_model.fit(X_train, y_train)"
   ]
  },
  {
   "cell_type": "code",
   "execution_count": 31,
   "id": "68c06e1d",
   "metadata": {},
   "outputs": [],
   "source": [
    "features = X_train.columns\n",
    "importance_values = best_model.feature_importances_"
   ]
  },
  {
   "cell_type": "code",
   "execution_count": 32,
   "id": "5256473d",
   "metadata": {},
   "outputs": [
    {
     "data": {
      "image/png": "[encoded data removed]",
      "text/plain": [
       "<Figure size 640x480 with 1 Axes>"
      ]
     },
     "metadata": {},
     "output_type": "display_data"
    }
   ],
   "source": [
    "plt.barh(y=range(len(features)),\n",
    "        width=importance_values,\n",
    "        tick_label=features)\n",
    "plt.show()"
   ]
  },
  {
   "attachments": {},
   "cell_type": "markdown",
   "id": "cc76d3c4",
   "metadata": {},
   "source": [
    "### We can observe that total_m2, lot_m2 and age have greater importance than the rest of the variables."
   ]
  },
  {
   "cell_type": "code",
   "execution_count": 33,
   "id": "aab9f20d",
   "metadata": {},
   "outputs": [
    {
     "name": "stdout",
     "output_type": "stream",
     "text": [
      "RMSE: 165274.44632778855\n",
      "MAE: 125419.06770688744\n",
      "Max Error: 915006.7363864136\n",
      "Explained Variance Score: 0.40545300424939257\n"
     ]
    }
   ],
   "source": [
    "y_pred = best_model.predict(X_test)\n",
    "print('RMSE:',mean_squared_error(y_test, y_pred, squared=False))\n",
    "print('MAE:',mean_absolute_error(y_test, y_pred))\n",
    "print('Max Error:',max_error(y_test, y_pred))\n",
    "print('Explained Variance Score:',explained_variance_score(y_test, y_pred))"
   ]
  },
  {
   "attachments": {},
   "cell_type": "markdown",
   "id": "4b723321",
   "metadata": {},
   "source": [
    "## Train a new model with only the important features"
   ]
  },
  {
   "cell_type": "code",
   "execution_count": 34,
   "id": "79bbeb16",
   "metadata": {},
   "outputs": [
    {
     "data": {
      "text/html": [
       "<div>\n",
       "<style scoped>\n",
       "    .dataframe tbody tr th:only-of-type {\n",
       "        vertical-align: middle;\n",
       "    }\n",
       "\n",
       "    .dataframe tbody tr th {\n",
       "        vertical-align: top;\n",
       "    }\n",
       "\n",
       "    .dataframe thead th {\n",
       "        text-align: right;\n",
       "    }\n",
       "</style>\n",
       "<table border=\"1\" class=\"dataframe\">\n",
       "  <thead>\n",
       "    <tr style=\"text-align: right;\">\n",
       "      <th></th>\n",
       "      <th>price</th>\n",
       "      <th>bedrooms</th>\n",
       "      <th>total_m2</th>\n",
       "      <th>lot_m2</th>\n",
       "      <th>basement_m2</th>\n",
       "      <th>age</th>\n",
       "      <th>age_renovated</th>\n",
       "    </tr>\n",
       "  </thead>\n",
       "  <tbody>\n",
       "    <tr>\n",
       "      <th>count</th>\n",
       "      <td>4.301000e+03</td>\n",
       "      <td>4301.000000</td>\n",
       "      <td>4301.000000</td>\n",
       "      <td>4301.000000</td>\n",
       "      <td>4301.000000</td>\n",
       "      <td>4301.000000</td>\n",
       "      <td>4301.000000</td>\n",
       "    </tr>\n",
       "    <tr>\n",
       "      <th>mean</th>\n",
       "      <td>4.794706e+05</td>\n",
       "      <td>3.342944</td>\n",
       "      <td>184.897931</td>\n",
       "      <td>1295.785631</td>\n",
       "      <td>25.645664</td>\n",
       "      <td>52.493839</td>\n",
       "      <td>38.026273</td>\n",
       "    </tr>\n",
       "    <tr>\n",
       "      <th>std</th>\n",
       "      <td>2.185138e+05</td>\n",
       "      <td>0.878047</td>\n",
       "      <td>69.004975</td>\n",
       "      <td>3234.546915</td>\n",
       "      <td>38.022509</td>\n",
       "      <td>29.527768</td>\n",
       "      <td>26.803185</td>\n",
       "    </tr>\n",
       "    <tr>\n",
       "      <th>min</th>\n",
       "      <td>0.000000e+00</td>\n",
       "      <td>0.000000</td>\n",
       "      <td>34.000000</td>\n",
       "      <td>59.000000</td>\n",
       "      <td>0.000000</td>\n",
       "      <td>9.000000</td>\n",
       "      <td>9.000000</td>\n",
       "    </tr>\n",
       "    <tr>\n",
       "      <th>25%</th>\n",
       "      <td>3.149500e+05</td>\n",
       "      <td>3.000000</td>\n",
       "      <td>132.000000</td>\n",
       "      <td>464.000000</td>\n",
       "      <td>0.000000</td>\n",
       "      <td>27.000000</td>\n",
       "      <td>18.000000</td>\n",
       "    </tr>\n",
       "    <tr>\n",
       "      <th>50%</th>\n",
       "      <td>4.450000e+05</td>\n",
       "      <td>3.000000</td>\n",
       "      <td>177.000000</td>\n",
       "      <td>697.000000</td>\n",
       "      <td>0.000000</td>\n",
       "      <td>48.000000</td>\n",
       "      <td>29.000000</td>\n",
       "    </tr>\n",
       "    <tr>\n",
       "      <th>75%</th>\n",
       "      <td>6.060000e+05</td>\n",
       "      <td>4.000000</td>\n",
       "      <td>231.000000</td>\n",
       "      <td>973.000000</td>\n",
       "      <td>51.000000</td>\n",
       "      <td>72.000000</td>\n",
       "      <td>50.000000</td>\n",
       "    </tr>\n",
       "    <tr>\n",
       "      <th>max</th>\n",
       "      <td>1.198000e+06</td>\n",
       "      <td>9.000000</td>\n",
       "      <td>385.000000</td>\n",
       "      <td>99797.000000</td>\n",
       "      <td>192.000000</td>\n",
       "      <td>123.000000</td>\n",
       "      <td>123.000000</td>\n",
       "    </tr>\n",
       "  </tbody>\n",
       "</table>\n",
       "</div>"
      ],
      "text/plain": [
       "              price     bedrooms     total_m2        lot_m2  basement_m2  \\\n",
       "count  4.301000e+03  4301.000000  4301.000000   4301.000000  4301.000000   \n",
       "mean   4.794706e+05     3.342944   184.897931   1295.785631    25.645664   \n",
       "std    2.185138e+05     0.878047    69.004975   3234.546915    38.022509   \n",
       "min    0.000000e+00     0.000000    34.000000     59.000000     0.000000   \n",
       "25%    3.149500e+05     3.000000   132.000000    464.000000     0.000000   \n",
       "50%    4.450000e+05     3.000000   177.000000    697.000000     0.000000   \n",
       "75%    6.060000e+05     4.000000   231.000000    973.000000    51.000000   \n",
       "max    1.198000e+06     9.000000   385.000000  99797.000000   192.000000   \n",
       "\n",
       "               age  age_renovated  \n",
       "count  4301.000000    4301.000000  \n",
       "mean     52.493839      38.026273  \n",
       "std      29.527768      26.803185  \n",
       "min       9.000000       9.000000  \n",
       "25%      27.000000      18.000000  \n",
       "50%      48.000000      29.000000  \n",
       "75%      72.000000      50.000000  \n",
       "max     123.000000     123.000000  "
      ]
     },
     "execution_count": 34,
     "metadata": {},
     "output_type": "execute_result"
    }
   ],
   "source": [
    "new_data = data_numeric.drop(['floors', 'bathrooms'], axis='columns')\n",
    "new_data.describe()"
   ]
  },
  {
   "cell_type": "code",
   "execution_count": 35,
   "id": "c3022c26",
   "metadata": {},
   "outputs": [],
   "source": [
    "# Seperating the target and features\n",
    "# target ->y, features -> X\n",
    "y = new_data['price']\n",
    "X = new_data.drop('price', axis='columns')"
   ]
  },
  {
   "cell_type": "code",
   "execution_count": 36,
   "id": "f26d9d67",
   "metadata": {},
   "outputs": [],
   "source": [
    "X_train, X_test, y_train, y_test = train_test_split(X, y, test_size=0.3, random_state=1)"
   ]
  },
  {
   "cell_type": "code",
   "execution_count": 37,
   "id": "ddf9c8fb",
   "metadata": {},
   "outputs": [
    {
     "data": {
      "text/plain": [
       "GridSearchCV(cv=3,\n",
       "             estimator=LGBMRegressor(objective='regression', random_state=101),\n",
       "             n_jobs=-1,\n",
       "             param_grid={'colsample_bytree': [0.7, 0.8, 0.9],\n",
       "                         'learning_rate': [0.1, 0.01], 'max_depth': [4, 6],\n",
       "                         'min_child_samples': [1, 5, 10],\n",
       "                         'n_estimators': [50, 100, 150],\n",
       "                         'subsample': [0.7, 0.8, 0.9]},\n",
       "             scoring='neg_root_mean_squared_error')"
      ]
     },
     "execution_count": 37,
     "metadata": {},
     "output_type": "execute_result"
    }
   ],
   "source": [
    "new_model = GridSearchCV(estimator=estimator, \n",
    "                    param_grid=param_grid,\n",
    "                    cv=3, \n",
    "                    n_jobs=-1, \n",
    "                    scoring='neg_root_mean_squared_error')\n",
    "new_model.fit(X_train, y_train)"
   ]
  },
  {
   "cell_type": "code",
   "execution_count": 38,
   "id": "5ef2ebef",
   "metadata": {},
   "outputs": [
    {
     "name": "stdout",
     "output_type": "stream",
     "text": [
      "LGBMRegressor(colsample_bytree=0.8, max_depth=4, min_child_samples=5,\n",
      "              n_estimators=50, objective='regression', random_state=101,\n",
      "              subsample=0.7)\n"
     ]
    }
   ],
   "source": [
    "best_params = new_model.best_estimator_\n",
    "print(best_params)"
   ]
  },
  {
   "cell_type": "code",
   "execution_count": 39,
   "id": "965311a8",
   "metadata": {},
   "outputs": [
    {
     "data": {
      "text/plain": [
       "LGBMRegressor(colsample_bytree=0.8, max_depth=4, min_child_samples=5,\n",
       "              n_estimators=50, objective='regression', random_state=101,\n",
       "              subsample=0.7)"
      ]
     },
     "execution_count": 39,
     "metadata": {},
     "output_type": "execute_result"
    }
   ],
   "source": [
    "best_model2 = lgb.LGBMRegressor(colsample_bytree=0.8, \n",
    "                               max_depth=4, \n",
    "                               min_child_samples=5,\n",
    "                               n_estimators=50, \n",
    "                               objective='regression', \n",
    "                               random_state=101,\n",
    "                               subsample=0.7)\n",
    "best_model2.fit(X_train, y_train)"
   ]
  },
  {
   "cell_type": "code",
   "execution_count": 43,
   "id": "f33840fe",
   "metadata": {},
   "outputs": [
    {
     "name": "stdout",
     "output_type": "stream",
     "text": [
      "RMSE: 164426.0380419707\n",
      "MAE: 125727.57552841393\n",
      "Max Error: 951780.8035350358\n",
      "Explained Variance Score: 0.4118166087923558\n"
     ]
    }
   ],
   "source": [
    "y_pred2 = best_model2.predict(X_test)\n",
    "print('RMSE:',mean_squared_error(y_test, y_pred2, squared=False))\n",
    "print('MAE:',mean_absolute_error(y_test, y_pred2))\n",
    "print('Max Error:',max_error(y_test, y_pred2))\n",
    "print('Explained Variance Score:',explained_variance_score(y_test, y_pred2))"
   ]
  },
  {
   "attachments": {},
   "cell_type": "markdown",
   "id": "bb758a95",
   "metadata": {},
   "source": [
    "#### As we can observe, the explained variance didn't increase significantly (from 0.40 to 0.41) but the new model has fewer variables so it's a simpler one."
   ]
  },
  {
   "attachments": {},
   "cell_type": "markdown",
   "id": "e8ed5d15",
   "metadata": {},
   "source": [
    "## Save the model to use it for a web app"
   ]
  },
  {
   "cell_type": "code",
   "execution_count": 44,
   "id": "98f9617b",
   "metadata": {},
   "outputs": [
    {
     "data": {
      "text/plain": [
       "['lgb_model.sav']"
      ]
     },
     "execution_count": 44,
     "metadata": {},
     "output_type": "execute_result"
    }
   ],
   "source": [
    "# Saving the model\n",
    "import joblib\n",
    " \n",
    "joblib.dump(best_model2, \"lgb_model.sav\")"
   ]
  },
  {
   "cell_type": "code",
   "execution_count": 46,
   "id": "4bf67a8e",
   "metadata": {},
   "outputs": [
    {
     "data": {
      "text/html": [
       "<div>\n",
       "<style scoped>\n",
       "    .dataframe tbody tr th:only-of-type {\n",
       "        vertical-align: middle;\n",
       "    }\n",
       "\n",
       "    .dataframe tbody tr th {\n",
       "        vertical-align: top;\n",
       "    }\n",
       "\n",
       "    .dataframe thead th {\n",
       "        text-align: right;\n",
       "    }\n",
       "</style>\n",
       "<table border=\"1\" class=\"dataframe\">\n",
       "  <thead>\n",
       "    <tr style=\"text-align: right;\">\n",
       "      <th></th>\n",
       "      <th>bedrooms</th>\n",
       "      <th>total_m2</th>\n",
       "      <th>lot_m2</th>\n",
       "      <th>basement_m2</th>\n",
       "      <th>age</th>\n",
       "      <th>age_renovated</th>\n",
       "    </tr>\n",
       "  </thead>\n",
       "  <tbody>\n",
       "    <tr>\n",
       "      <th>1839</th>\n",
       "      <td>3</td>\n",
       "      <td>248</td>\n",
       "      <td>905</td>\n",
       "      <td>99</td>\n",
       "      <td>44</td>\n",
       "      <td>44</td>\n",
       "    </tr>\n",
       "    <tr>\n",
       "      <th>4140</th>\n",
       "      <td>3</td>\n",
       "      <td>183</td>\n",
       "      <td>1030</td>\n",
       "      <td>73</td>\n",
       "      <td>56</td>\n",
       "      <td>56</td>\n",
       "    </tr>\n",
       "    <tr>\n",
       "      <th>2136</th>\n",
       "      <td>3</td>\n",
       "      <td>165</td>\n",
       "      <td>629</td>\n",
       "      <td>51</td>\n",
       "      <td>33</td>\n",
       "      <td>14</td>\n",
       "    </tr>\n",
       "    <tr>\n",
       "      <th>3701</th>\n",
       "      <td>4</td>\n",
       "      <td>231</td>\n",
       "      <td>884</td>\n",
       "      <td>0</td>\n",
       "      <td>55</td>\n",
       "      <td>55</td>\n",
       "    </tr>\n",
       "    <tr>\n",
       "      <th>889</th>\n",
       "      <td>5</td>\n",
       "      <td>195</td>\n",
       "      <td>905</td>\n",
       "      <td>83</td>\n",
       "      <td>16</td>\n",
       "      <td>16</td>\n",
       "    </tr>\n",
       "    <tr>\n",
       "      <th>...</th>\n",
       "      <td>...</td>\n",
       "      <td>...</td>\n",
       "      <td>...</td>\n",
       "      <td>...</td>\n",
       "      <td>...</td>\n",
       "      <td>...</td>\n",
       "    </tr>\n",
       "    <tr>\n",
       "      <th>2940</th>\n",
       "      <td>3</td>\n",
       "      <td>117</td>\n",
       "      <td>752</td>\n",
       "      <td>36</td>\n",
       "      <td>73</td>\n",
       "      <td>18</td>\n",
       "    </tr>\n",
       "    <tr>\n",
       "      <th>2806</th>\n",
       "      <td>4</td>\n",
       "      <td>126</td>\n",
       "      <td>557</td>\n",
       "      <td>0</td>\n",
       "      <td>106</td>\n",
       "      <td>14</td>\n",
       "    </tr>\n",
       "    <tr>\n",
       "      <th>918</th>\n",
       "      <td>3</td>\n",
       "      <td>145</td>\n",
       "      <td>722</td>\n",
       "      <td>0</td>\n",
       "      <td>41</td>\n",
       "      <td>41</td>\n",
       "    </tr>\n",
       "    <tr>\n",
       "      <th>4044</th>\n",
       "      <td>2</td>\n",
       "      <td>72</td>\n",
       "      <td>363</td>\n",
       "      <td>0</td>\n",
       "      <td>105</td>\n",
       "      <td>105</td>\n",
       "    </tr>\n",
       "    <tr>\n",
       "      <th>239</th>\n",
       "      <td>4</td>\n",
       "      <td>170</td>\n",
       "      <td>887</td>\n",
       "      <td>0</td>\n",
       "      <td>32</td>\n",
       "      <td>32</td>\n",
       "    </tr>\n",
       "  </tbody>\n",
       "</table>\n",
       "<p>3010 rows × 6 columns</p>\n",
       "</div>"
      ],
      "text/plain": [
       "      bedrooms  total_m2  lot_m2  basement_m2  age  age_renovated\n",
       "1839         3       248     905           99   44             44\n",
       "4140         3       183    1030           73   56             56\n",
       "2136         3       165     629           51   33             14\n",
       "3701         4       231     884            0   55             55\n",
       "889          5       195     905           83   16             16\n",
       "...        ...       ...     ...          ...  ...            ...\n",
       "2940         3       117     752           36   73             18\n",
       "2806         4       126     557            0  106             14\n",
       "918          3       145     722            0   41             41\n",
       "4044         2        72     363            0  105            105\n",
       "239          4       170     887            0   32             32\n",
       "\n",
       "[3010 rows x 6 columns]"
      ]
     },
     "execution_count": 46,
     "metadata": {},
     "output_type": "execute_result"
    }
   ],
   "source": [
    "X_train"
   ]
  }
 ],
 "metadata": {
  "kernelspec": {
   "display_name": "Python 3 (ipykernel)",
   "language": "python",
   "name": "python3"
  },
  "language_info": {
   "codemirror_mode": {
    "name": "ipython",
    "version": 3
   },
   "file_extension": ".py",
   "mimetype": "text/x-python",
   "name": "python",
   "nbconvert_exporter": "python",
   "pygments_lexer": "ipython3",
   "version": "3.8.10"
  }
 },
 "nbformat": 4,
 "nbformat_minor": 5
}
