{
 "cells": [
  {
   "cell_type": "markdown",
   "id": "6783b428",
   "metadata": {},
   "source": [
    "# Blood donor"
   ]
  },
  {
   "cell_type": "code",
   "execution_count": 1,
   "id": "0afeea60",
   "metadata": {},
   "outputs": [],
   "source": [
    "import pandas as pd\n",
    "import numpy as np\n",
    "import seaborn as sns\n",
    "import matplotlib.pyplot as plt\n",
    "from sklearn.utils import resample\n",
    "from sklearn.model_selection import train_test_split\n",
    "from sklearn.linear_model import LogisticRegression\n",
    "from sklearn.model_selection import GridSearchCV\n",
    "import warnings\n",
    "warnings.filterwarnings('ignore')\n",
    "from sklearn.metrics import accuracy_score"
   ]
  },
  {
   "cell_type": "code",
   "execution_count": 2,
   "id": "b9bba014",
   "metadata": {},
   "outputs": [],
   "source": [
    "data = pd.read_csv('HepatitisCdata.csv')"
   ]
  },
  {
   "cell_type": "markdown",
   "id": "b6ba4b3b",
   "metadata": {},
   "source": [
    "## EDA"
   ]
  },
  {
   "cell_type": "code",
   "execution_count": 3,
   "id": "bdf342e1",
   "metadata": {},
   "outputs": [
    {
     "data": {
      "text/html": [
       "<div>\n",
       "<style scoped>\n",
       "    .dataframe tbody tr th:only-of-type {\n",
       "        vertical-align: middle;\n",
       "    }\n",
       "\n",
       "    .dataframe tbody tr th {\n",
       "        vertical-align: top;\n",
       "    }\n",
       "\n",
       "    .dataframe thead th {\n",
       "        text-align: right;\n",
       "    }\n",
       "</style>\n",
       "<table border=\"1\" class=\"dataframe\">\n",
       "  <thead>\n",
       "    <tr style=\"text-align: right;\">\n",
       "      <th></th>\n",
       "      <th>Unnamed: 0</th>\n",
       "      <th>Category</th>\n",
       "      <th>Age</th>\n",
       "      <th>Sex</th>\n",
       "      <th>ALB</th>\n",
       "      <th>ALP</th>\n",
       "      <th>ALT</th>\n",
       "      <th>AST</th>\n",
       "      <th>BIL</th>\n",
       "      <th>CHE</th>\n",
       "      <th>CHOL</th>\n",
       "      <th>CREA</th>\n",
       "      <th>GGT</th>\n",
       "      <th>PROT</th>\n",
       "    </tr>\n",
       "  </thead>\n",
       "  <tbody>\n",
       "    <tr>\n",
       "      <th>0</th>\n",
       "      <td>1</td>\n",
       "      <td>0=Blood Donor</td>\n",
       "      <td>32</td>\n",
       "      <td>m</td>\n",
       "      <td>38.5</td>\n",
       "      <td>52.5</td>\n",
       "      <td>7.7</td>\n",
       "      <td>22.1</td>\n",
       "      <td>7.5</td>\n",
       "      <td>6.93</td>\n",
       "      <td>3.23</td>\n",
       "      <td>106.0</td>\n",
       "      <td>12.1</td>\n",
       "      <td>69.0</td>\n",
       "    </tr>\n",
       "    <tr>\n",
       "      <th>1</th>\n",
       "      <td>2</td>\n",
       "      <td>0=Blood Donor</td>\n",
       "      <td>32</td>\n",
       "      <td>m</td>\n",
       "      <td>38.5</td>\n",
       "      <td>70.3</td>\n",
       "      <td>18.0</td>\n",
       "      <td>24.7</td>\n",
       "      <td>3.9</td>\n",
       "      <td>11.17</td>\n",
       "      <td>4.80</td>\n",
       "      <td>74.0</td>\n",
       "      <td>15.6</td>\n",
       "      <td>76.5</td>\n",
       "    </tr>\n",
       "    <tr>\n",
       "      <th>2</th>\n",
       "      <td>3</td>\n",
       "      <td>0=Blood Donor</td>\n",
       "      <td>32</td>\n",
       "      <td>m</td>\n",
       "      <td>46.9</td>\n",
       "      <td>74.7</td>\n",
       "      <td>36.2</td>\n",
       "      <td>52.6</td>\n",
       "      <td>6.1</td>\n",
       "      <td>8.84</td>\n",
       "      <td>5.20</td>\n",
       "      <td>86.0</td>\n",
       "      <td>33.2</td>\n",
       "      <td>79.3</td>\n",
       "    </tr>\n",
       "    <tr>\n",
       "      <th>3</th>\n",
       "      <td>4</td>\n",
       "      <td>0=Blood Donor</td>\n",
       "      <td>32</td>\n",
       "      <td>m</td>\n",
       "      <td>43.2</td>\n",
       "      <td>52.0</td>\n",
       "      <td>30.6</td>\n",
       "      <td>22.6</td>\n",
       "      <td>18.9</td>\n",
       "      <td>7.33</td>\n",
       "      <td>4.74</td>\n",
       "      <td>80.0</td>\n",
       "      <td>33.8</td>\n",
       "      <td>75.7</td>\n",
       "    </tr>\n",
       "    <tr>\n",
       "      <th>4</th>\n",
       "      <td>5</td>\n",
       "      <td>0=Blood Donor</td>\n",
       "      <td>32</td>\n",
       "      <td>m</td>\n",
       "      <td>39.2</td>\n",
       "      <td>74.1</td>\n",
       "      <td>32.6</td>\n",
       "      <td>24.8</td>\n",
       "      <td>9.6</td>\n",
       "      <td>9.15</td>\n",
       "      <td>4.32</td>\n",
       "      <td>76.0</td>\n",
       "      <td>29.9</td>\n",
       "      <td>68.7</td>\n",
       "    </tr>\n",
       "    <tr>\n",
       "      <th>...</th>\n",
       "      <td>...</td>\n",
       "      <td>...</td>\n",
       "      <td>...</td>\n",
       "      <td>...</td>\n",
       "      <td>...</td>\n",
       "      <td>...</td>\n",
       "      <td>...</td>\n",
       "      <td>...</td>\n",
       "      <td>...</td>\n",
       "      <td>...</td>\n",
       "      <td>...</td>\n",
       "      <td>...</td>\n",
       "      <td>...</td>\n",
       "      <td>...</td>\n",
       "    </tr>\n",
       "    <tr>\n",
       "      <th>610</th>\n",
       "      <td>611</td>\n",
       "      <td>3=Cirrhosis</td>\n",
       "      <td>62</td>\n",
       "      <td>f</td>\n",
       "      <td>32.0</td>\n",
       "      <td>416.6</td>\n",
       "      <td>5.9</td>\n",
       "      <td>110.3</td>\n",
       "      <td>50.0</td>\n",
       "      <td>5.57</td>\n",
       "      <td>6.30</td>\n",
       "      <td>55.7</td>\n",
       "      <td>650.9</td>\n",
       "      <td>68.5</td>\n",
       "    </tr>\n",
       "    <tr>\n",
       "      <th>611</th>\n",
       "      <td>612</td>\n",
       "      <td>3=Cirrhosis</td>\n",
       "      <td>64</td>\n",
       "      <td>f</td>\n",
       "      <td>24.0</td>\n",
       "      <td>102.8</td>\n",
       "      <td>2.9</td>\n",
       "      <td>44.4</td>\n",
       "      <td>20.0</td>\n",
       "      <td>1.54</td>\n",
       "      <td>3.02</td>\n",
       "      <td>63.0</td>\n",
       "      <td>35.9</td>\n",
       "      <td>71.3</td>\n",
       "    </tr>\n",
       "    <tr>\n",
       "      <th>612</th>\n",
       "      <td>613</td>\n",
       "      <td>3=Cirrhosis</td>\n",
       "      <td>64</td>\n",
       "      <td>f</td>\n",
       "      <td>29.0</td>\n",
       "      <td>87.3</td>\n",
       "      <td>3.5</td>\n",
       "      <td>99.0</td>\n",
       "      <td>48.0</td>\n",
       "      <td>1.66</td>\n",
       "      <td>3.63</td>\n",
       "      <td>66.7</td>\n",
       "      <td>64.2</td>\n",
       "      <td>82.0</td>\n",
       "    </tr>\n",
       "    <tr>\n",
       "      <th>613</th>\n",
       "      <td>614</td>\n",
       "      <td>3=Cirrhosis</td>\n",
       "      <td>46</td>\n",
       "      <td>f</td>\n",
       "      <td>33.0</td>\n",
       "      <td>NaN</td>\n",
       "      <td>39.0</td>\n",
       "      <td>62.0</td>\n",
       "      <td>20.0</td>\n",
       "      <td>3.56</td>\n",
       "      <td>4.20</td>\n",
       "      <td>52.0</td>\n",
       "      <td>50.0</td>\n",
       "      <td>71.0</td>\n",
       "    </tr>\n",
       "    <tr>\n",
       "      <th>614</th>\n",
       "      <td>615</td>\n",
       "      <td>3=Cirrhosis</td>\n",
       "      <td>59</td>\n",
       "      <td>f</td>\n",
       "      <td>36.0</td>\n",
       "      <td>NaN</td>\n",
       "      <td>100.0</td>\n",
       "      <td>80.0</td>\n",
       "      <td>12.0</td>\n",
       "      <td>9.07</td>\n",
       "      <td>5.30</td>\n",
       "      <td>67.0</td>\n",
       "      <td>34.0</td>\n",
       "      <td>68.0</td>\n",
       "    </tr>\n",
       "  </tbody>\n",
       "</table>\n",
       "<p>615 rows × 14 columns</p>\n",
       "</div>"
      ],
      "text/plain": [
       "     Unnamed: 0       Category  Age Sex   ALB    ALP    ALT    AST   BIL  \\\n",
       "0             1  0=Blood Donor   32   m  38.5   52.5    7.7   22.1   7.5   \n",
       "1             2  0=Blood Donor   32   m  38.5   70.3   18.0   24.7   3.9   \n",
       "2             3  0=Blood Donor   32   m  46.9   74.7   36.2   52.6   6.1   \n",
       "3             4  0=Blood Donor   32   m  43.2   52.0   30.6   22.6  18.9   \n",
       "4             5  0=Blood Donor   32   m  39.2   74.1   32.6   24.8   9.6   \n",
       "..          ...            ...  ...  ..   ...    ...    ...    ...   ...   \n",
       "610         611    3=Cirrhosis   62   f  32.0  416.6    5.9  110.3  50.0   \n",
       "611         612    3=Cirrhosis   64   f  24.0  102.8    2.9   44.4  20.0   \n",
       "612         613    3=Cirrhosis   64   f  29.0   87.3    3.5   99.0  48.0   \n",
       "613         614    3=Cirrhosis   46   f  33.0    NaN   39.0   62.0  20.0   \n",
       "614         615    3=Cirrhosis   59   f  36.0    NaN  100.0   80.0  12.0   \n",
       "\n",
       "       CHE  CHOL   CREA    GGT  PROT  \n",
       "0     6.93  3.23  106.0   12.1  69.0  \n",
       "1    11.17  4.80   74.0   15.6  76.5  \n",
       "2     8.84  5.20   86.0   33.2  79.3  \n",
       "3     7.33  4.74   80.0   33.8  75.7  \n",
       "4     9.15  4.32   76.0   29.9  68.7  \n",
       "..     ...   ...    ...    ...   ...  \n",
       "610   5.57  6.30   55.7  650.9  68.5  \n",
       "611   1.54  3.02   63.0   35.9  71.3  \n",
       "612   1.66  3.63   66.7   64.2  82.0  \n",
       "613   3.56  4.20   52.0   50.0  71.0  \n",
       "614   9.07  5.30   67.0   34.0  68.0  \n",
       "\n",
       "[615 rows x 14 columns]"
      ]
     },
     "execution_count": 3,
     "metadata": {},
     "output_type": "execute_result"
    }
   ],
   "source": [
    "data"
   ]
  },
  {
   "cell_type": "code",
   "execution_count": 4,
   "id": "ebd99ff6",
   "metadata": {},
   "outputs": [],
   "source": [
    "data.drop('Unnamed: 0',axis=1,inplace=True)"
   ]
  },
  {
   "cell_type": "code",
   "execution_count": 5,
   "id": "cf724754",
   "metadata": {},
   "outputs": [
    {
     "data": {
      "text/plain": [
       "Category     0\n",
       "Age          0\n",
       "Sex          0\n",
       "ALB          1\n",
       "ALP         18\n",
       "ALT          1\n",
       "AST          0\n",
       "BIL          0\n",
       "CHE          0\n",
       "CHOL        10\n",
       "CREA         0\n",
       "GGT          0\n",
       "PROT         1\n",
       "dtype: int64"
      ]
     },
     "execution_count": 5,
     "metadata": {},
     "output_type": "execute_result"
    }
   ],
   "source": [
    "data.isna().sum()"
   ]
  },
  {
   "cell_type": "code",
   "execution_count": 6,
   "id": "658dac25",
   "metadata": {},
   "outputs": [
    {
     "data": {
      "text/plain": [
       "(589, 13)"
      ]
     },
     "execution_count": 6,
     "metadata": {},
     "output_type": "execute_result"
    }
   ],
   "source": [
    "data=data.dropna()\n",
    "data.shape"
   ]
  },
  {
   "cell_type": "code",
   "execution_count": 7,
   "id": "fe65ab19",
   "metadata": {},
   "outputs": [],
   "source": [
    "data.replace(to_replace=['0=Blood Donor', '0s=suspect Blood Donor', '1=Hepatitis',\n",
    "       '2=Fibrosis', '3=Cirrhosis'],\n",
    "             value=['0','1','2','3','4'],inplace=True)"
   ]
  },
  {
   "cell_type": "code",
   "execution_count": 8,
   "id": "c125bcba",
   "metadata": {},
   "outputs": [],
   "source": [
    "data.drop(['Age', 'Sex'], axis='columns', inplace=True)"
   ]
  },
  {
   "cell_type": "code",
   "execution_count": 9,
   "id": "dad5c862",
   "metadata": {},
   "outputs": [
    {
     "data": {
      "text/html": [
       "<div>\n",
       "<style scoped>\n",
       "    .dataframe tbody tr th:only-of-type {\n",
       "        vertical-align: middle;\n",
       "    }\n",
       "\n",
       "    .dataframe tbody tr th {\n",
       "        vertical-align: top;\n",
       "    }\n",
       "\n",
       "    .dataframe thead th {\n",
       "        text-align: right;\n",
       "    }\n",
       "</style>\n",
       "<table border=\"1\" class=\"dataframe\">\n",
       "  <thead>\n",
       "    <tr style=\"text-align: right;\">\n",
       "      <th></th>\n",
       "      <th>Category</th>\n",
       "      <th>ALB</th>\n",
       "      <th>ALP</th>\n",
       "      <th>ALT</th>\n",
       "      <th>AST</th>\n",
       "      <th>BIL</th>\n",
       "      <th>CHE</th>\n",
       "      <th>CHOL</th>\n",
       "      <th>CREA</th>\n",
       "      <th>GGT</th>\n",
       "      <th>PROT</th>\n",
       "    </tr>\n",
       "  </thead>\n",
       "  <tbody>\n",
       "    <tr>\n",
       "      <th>0</th>\n",
       "      <td>0</td>\n",
       "      <td>38.5</td>\n",
       "      <td>52.5</td>\n",
       "      <td>7.7</td>\n",
       "      <td>22.1</td>\n",
       "      <td>7.5</td>\n",
       "      <td>6.93</td>\n",
       "      <td>3.23</td>\n",
       "      <td>106.0</td>\n",
       "      <td>12.1</td>\n",
       "      <td>69.0</td>\n",
       "    </tr>\n",
       "    <tr>\n",
       "      <th>1</th>\n",
       "      <td>0</td>\n",
       "      <td>38.5</td>\n",
       "      <td>70.3</td>\n",
       "      <td>18.0</td>\n",
       "      <td>24.7</td>\n",
       "      <td>3.9</td>\n",
       "      <td>11.17</td>\n",
       "      <td>4.80</td>\n",
       "      <td>74.0</td>\n",
       "      <td>15.6</td>\n",
       "      <td>76.5</td>\n",
       "    </tr>\n",
       "    <tr>\n",
       "      <th>2</th>\n",
       "      <td>0</td>\n",
       "      <td>46.9</td>\n",
       "      <td>74.7</td>\n",
       "      <td>36.2</td>\n",
       "      <td>52.6</td>\n",
       "      <td>6.1</td>\n",
       "      <td>8.84</td>\n",
       "      <td>5.20</td>\n",
       "      <td>86.0</td>\n",
       "      <td>33.2</td>\n",
       "      <td>79.3</td>\n",
       "    </tr>\n",
       "    <tr>\n",
       "      <th>3</th>\n",
       "      <td>0</td>\n",
       "      <td>43.2</td>\n",
       "      <td>52.0</td>\n",
       "      <td>30.6</td>\n",
       "      <td>22.6</td>\n",
       "      <td>18.9</td>\n",
       "      <td>7.33</td>\n",
       "      <td>4.74</td>\n",
       "      <td>80.0</td>\n",
       "      <td>33.8</td>\n",
       "      <td>75.7</td>\n",
       "    </tr>\n",
       "    <tr>\n",
       "      <th>4</th>\n",
       "      <td>0</td>\n",
       "      <td>39.2</td>\n",
       "      <td>74.1</td>\n",
       "      <td>32.6</td>\n",
       "      <td>24.8</td>\n",
       "      <td>9.6</td>\n",
       "      <td>9.15</td>\n",
       "      <td>4.32</td>\n",
       "      <td>76.0</td>\n",
       "      <td>29.9</td>\n",
       "      <td>68.7</td>\n",
       "    </tr>\n",
       "    <tr>\n",
       "      <th>...</th>\n",
       "      <td>...</td>\n",
       "      <td>...</td>\n",
       "      <td>...</td>\n",
       "      <td>...</td>\n",
       "      <td>...</td>\n",
       "      <td>...</td>\n",
       "      <td>...</td>\n",
       "      <td>...</td>\n",
       "      <td>...</td>\n",
       "      <td>...</td>\n",
       "      <td>...</td>\n",
       "    </tr>\n",
       "    <tr>\n",
       "      <th>608</th>\n",
       "      <td>4</td>\n",
       "      <td>34.0</td>\n",
       "      <td>46.4</td>\n",
       "      <td>15.0</td>\n",
       "      <td>150.0</td>\n",
       "      <td>8.0</td>\n",
       "      <td>6.26</td>\n",
       "      <td>3.98</td>\n",
       "      <td>56.0</td>\n",
       "      <td>49.7</td>\n",
       "      <td>80.6</td>\n",
       "    </tr>\n",
       "    <tr>\n",
       "      <th>609</th>\n",
       "      <td>4</td>\n",
       "      <td>39.0</td>\n",
       "      <td>51.3</td>\n",
       "      <td>19.6</td>\n",
       "      <td>285.8</td>\n",
       "      <td>40.0</td>\n",
       "      <td>5.77</td>\n",
       "      <td>4.51</td>\n",
       "      <td>136.1</td>\n",
       "      <td>101.1</td>\n",
       "      <td>70.5</td>\n",
       "    </tr>\n",
       "    <tr>\n",
       "      <th>610</th>\n",
       "      <td>4</td>\n",
       "      <td>32.0</td>\n",
       "      <td>416.6</td>\n",
       "      <td>5.9</td>\n",
       "      <td>110.3</td>\n",
       "      <td>50.0</td>\n",
       "      <td>5.57</td>\n",
       "      <td>6.30</td>\n",
       "      <td>55.7</td>\n",
       "      <td>650.9</td>\n",
       "      <td>68.5</td>\n",
       "    </tr>\n",
       "    <tr>\n",
       "      <th>611</th>\n",
       "      <td>4</td>\n",
       "      <td>24.0</td>\n",
       "      <td>102.8</td>\n",
       "      <td>2.9</td>\n",
       "      <td>44.4</td>\n",
       "      <td>20.0</td>\n",
       "      <td>1.54</td>\n",
       "      <td>3.02</td>\n",
       "      <td>63.0</td>\n",
       "      <td>35.9</td>\n",
       "      <td>71.3</td>\n",
       "    </tr>\n",
       "    <tr>\n",
       "      <th>612</th>\n",
       "      <td>4</td>\n",
       "      <td>29.0</td>\n",
       "      <td>87.3</td>\n",
       "      <td>3.5</td>\n",
       "      <td>99.0</td>\n",
       "      <td>48.0</td>\n",
       "      <td>1.66</td>\n",
       "      <td>3.63</td>\n",
       "      <td>66.7</td>\n",
       "      <td>64.2</td>\n",
       "      <td>82.0</td>\n",
       "    </tr>\n",
       "  </tbody>\n",
       "</table>\n",
       "<p>589 rows × 11 columns</p>\n",
       "</div>"
      ],
      "text/plain": [
       "    Category   ALB    ALP   ALT    AST   BIL    CHE  CHOL   CREA    GGT  PROT\n",
       "0          0  38.5   52.5   7.7   22.1   7.5   6.93  3.23  106.0   12.1  69.0\n",
       "1          0  38.5   70.3  18.0   24.7   3.9  11.17  4.80   74.0   15.6  76.5\n",
       "2          0  46.9   74.7  36.2   52.6   6.1   8.84  5.20   86.0   33.2  79.3\n",
       "3          0  43.2   52.0  30.6   22.6  18.9   7.33  4.74   80.0   33.8  75.7\n",
       "4          0  39.2   74.1  32.6   24.8   9.6   9.15  4.32   76.0   29.9  68.7\n",
       "..       ...   ...    ...   ...    ...   ...    ...   ...    ...    ...   ...\n",
       "608        4  34.0   46.4  15.0  150.0   8.0   6.26  3.98   56.0   49.7  80.6\n",
       "609        4  39.0   51.3  19.6  285.8  40.0   5.77  4.51  136.1  101.1  70.5\n",
       "610        4  32.0  416.6   5.9  110.3  50.0   5.57  6.30   55.7  650.9  68.5\n",
       "611        4  24.0  102.8   2.9   44.4  20.0   1.54  3.02   63.0   35.9  71.3\n",
       "612        4  29.0   87.3   3.5   99.0  48.0   1.66  3.63   66.7   64.2  82.0\n",
       "\n",
       "[589 rows x 11 columns]"
      ]
     },
     "execution_count": 9,
     "metadata": {},
     "output_type": "execute_result"
    }
   ],
   "source": [
    "data"
   ]
  },
  {
   "cell_type": "code",
   "execution_count": 10,
   "id": "65b9817e",
   "metadata": {},
   "outputs": [
    {
     "data": {
      "text/plain": [
       "<AxesSubplot:>"
      ]
     },
     "execution_count": 10,
     "metadata": {},
     "output_type": "execute_result"
    },
    {
     "data": {
      "image/png": "[encoded data removed]",
      "text/plain": [
       "<Figure size 1000x600 with 2 Axes>"
      ]
     },
     "metadata": {},
     "output_type": "display_data"
    }
   ],
   "source": [
    "import seaborn as sns\n",
    "plt.figure(figsize=(10,6))\n",
    "sns.heatmap(data.corr(), annot=True)"
   ]
  },
  {
   "cell_type": "markdown",
   "id": "5d74c529",
   "metadata": {},
   "source": [
    "### From the previous heatmap we can observe that there are no variables strongly correlated. ALB and PROT  are stronger correlated than others."
   ]
  },
  {
   "cell_type": "code",
   "execution_count": 11,
   "id": "dba9fc49",
   "metadata": {},
   "outputs": [
    {
     "data": {
      "text/plain": [
       "Category\n",
       "0    526\n",
       "1      7\n",
       "2     20\n",
       "3     12\n",
       "4     24\n",
       "Name: Category, dtype: int64"
      ]
     },
     "execution_count": 11,
     "metadata": {},
     "output_type": "execute_result"
    }
   ],
   "source": [
    "data.groupby('Category').Category.count()"
   ]
  },
  {
   "cell_type": "code",
   "execution_count": 12,
   "id": "459426c3",
   "metadata": {},
   "outputs": [
    {
     "data": {
      "text/plain": [
       "<AxesSubplot:ylabel='Category'>"
      ]
     },
     "execution_count": 12,
     "metadata": {},
     "output_type": "execute_result"
    },
    {
     "data": {
      "image/png": "[encoded data removed]",
      "text/plain": [
       "<Figure size 640x480 with 1 Axes>"
      ]
     },
     "metadata": {},
     "output_type": "display_data"
    }
   ],
   "source": [
    "plt.figure()\n",
    "data.Category.value_counts().plot(kind='pie')"
   ]
  },
  {
   "cell_type": "markdown",
   "id": "9779e37a",
   "metadata": {},
   "source": [
    "### We can observe that our data is imbalanced. So it's necessary to deal with this type of problem. I'm going to upsample"
   ]
  },
  {
   "cell_type": "code",
   "execution_count": 13,
   "id": "b0056bf2",
   "metadata": {},
   "outputs": [
    {
     "name": "stdout",
     "output_type": "stream",
     "text": [
      "(526, 11) (526, 11) (526, 11) (526, 11)\n"
     ]
    }
   ],
   "source": [
    "cat0_df  = data[data[\"Category\"] == \"0\"]\n",
    "cat1_df  = data[data[\"Category\"] == \"1\"]\n",
    "cat2_df  = data[data[\"Category\"] == \"2\"]\n",
    "cat3_df  = data[data[\"Category\"] == \"3\"]\n",
    "cat4_df  = data[data[\"Category\"] == \"4\"]\n",
    "\n",
    "cat1 = resample(cat1_df,\n",
    "             replace=True,\n",
    "             n_samples=len(cat0_df),\n",
    "             random_state=42)\n",
    "cat2 = resample(cat2_df,\n",
    "             replace=True,\n",
    "             n_samples=len(cat0_df),\n",
    "             random_state=42)\n",
    "cat3 = resample(cat3_df,\n",
    "             replace=True,\n",
    "             n_samples=len(cat0_df),\n",
    "             random_state=42)\n",
    "cat4 = resample(cat4_df,\n",
    "             replace=True,\n",
    "             n_samples=len(cat0_df),\n",
    "             random_state=42)\n",
    "print(cat1.shape, cat2.shape, cat3.shape, cat4.shape)"
   ]
  },
  {
   "cell_type": "code",
   "execution_count": 14,
   "id": "3fc188a3",
   "metadata": {},
   "outputs": [
    {
     "data": {
      "text/plain": [
       "(2693, 11)"
      ]
     },
     "execution_count": 14,
     "metadata": {},
     "output_type": "execute_result"
    }
   ],
   "source": [
    "data_upsampled = pd.concat([data, cat1, cat2, cat3, cat4])\n",
    "data_upsampled.shape"
   ]
  },
  {
   "cell_type": "code",
   "execution_count": 15,
   "id": "d29a9a2f",
   "metadata": {},
   "outputs": [
    {
     "data": {
      "text/plain": [
       "<AxesSubplot:ylabel='Category'>"
      ]
     },
     "execution_count": 15,
     "metadata": {},
     "output_type": "execute_result"
    },
    {
     "data": {
      "image/png": "[encoded data removed]",
      "text/plain": [
       "<Figure size 640x480 with 1 Axes>"
      ]
     },
     "metadata": {},
     "output_type": "display_data"
    }
   ],
   "source": [
    "plt.figure()\n",
    "data_upsampled.Category.value_counts().plot(kind='pie')"
   ]
  },
  {
   "cell_type": "markdown",
   "id": "5385a357",
   "metadata": {},
   "source": [
    "## Split the data into train and test"
   ]
  },
  {
   "cell_type": "code",
   "execution_count": 16,
   "id": "955e260e",
   "metadata": {},
   "outputs": [],
   "source": [
    "x=data.drop(columns=['Category'] ,axis=1)\n",
    "y=data['Category']"
   ]
  },
  {
   "cell_type": "code",
   "execution_count": 17,
   "id": "618c7318",
   "metadata": {},
   "outputs": [],
   "source": [
    "x_train,x_test,y_train,y_test = train_test_split(x, y, test_size=0.2, stratify=y,random_state=2) \n",
    "#stratify ensures that the test and train splits have the same ratio of class ratio for training classification models."
   ]
  },
  {
   "cell_type": "code",
   "execution_count": 18,
   "id": "268ac2df",
   "metadata": {},
   "outputs": [
    {
     "data": {
      "text/plain": [
       "LogisticRegression()"
      ]
     },
     "execution_count": 18,
     "metadata": {},
     "output_type": "execute_result"
    }
   ],
   "source": [
    "model= LogisticRegression()\n",
    "model.fit(x_train, y_train)"
   ]
  },
  {
   "cell_type": "code",
   "execution_count": 19,
   "id": "ab26a3eb",
   "metadata": {},
   "outputs": [
    {
     "name": "stdout",
     "output_type": "stream",
     "text": [
      "Accuracy on training data 0.9152542372881356\n"
     ]
    }
   ],
   "source": [
    "y_pred= model.predict(x_test)\n",
    "training_data_accuracy=accuracy_score(y_test,y_pred)\n",
    "print('Accuracy on training data',training_data_accuracy)"
   ]
  },
  {
   "cell_type": "markdown",
   "id": "910141f4",
   "metadata": {},
   "source": [
    "## Use GridSearch"
   ]
  },
  {
   "cell_type": "code",
   "execution_count": 20,
   "id": "1a23bb34",
   "metadata": {},
   "outputs": [],
   "source": [
    "# parameter grid\n",
    "parameters = {\n",
    "    'penalty' : ['l1','l2'], \n",
    "    'C'       : np.logspace(-3,3,7),\n",
    "    'solver'  : ['newton-cg', 'lbfgs', 'liblinear'],\n",
    "}"
   ]
  },
  {
   "cell_type": "code",
   "execution_count": 21,
   "id": "f648ad4b",
   "metadata": {},
   "outputs": [],
   "source": [
    "logreg = LogisticRegression()\n",
    "clf = GridSearchCV(logreg,                    # model\n",
    "                   param_grid = parameters,   # hyperparameters\n",
    "                   scoring='accuracy',        # metric for scoring\n",
    "                   cv=10)                     # number of folds"
   ]
  },
  {
   "cell_type": "code",
   "execution_count": 22,
   "id": "90ce708c",
   "metadata": {},
   "outputs": [
    {
     "data": {
      "text/plain": [
       "GridSearchCV(cv=10, estimator=LogisticRegression(),\n",
       "             param_grid={'C': array([1.e-03, 1.e-02, 1.e-01, 1.e+00, 1.e+01, 1.e+02, 1.e+03]),\n",
       "                         'penalty': ['l1', 'l2'],\n",
       "                         'solver': ['newton-cg', 'lbfgs', 'liblinear']},\n",
       "             scoring='accuracy')"
      ]
     },
     "execution_count": 22,
     "metadata": {},
     "output_type": "execute_result"
    }
   ],
   "source": [
    "clf.fit(x_train,y_train)"
   ]
  },
  {
   "cell_type": "code",
   "execution_count": 23,
   "id": "ff23e613",
   "metadata": {},
   "outputs": [
    {
     "name": "stdout",
     "output_type": "stream",
     "text": [
      "Tuned Hyperparameters : {'C': 1000.0, 'penalty': 'l2', 'solver': 'lbfgs'}\n",
      "Accuracy : 0.957491134751773\n"
     ]
    }
   ],
   "source": [
    "print(\"Tuned Hyperparameters :\", clf.best_params_)\n",
    "print(\"Accuracy :\",clf.best_score_)"
   ]
  },
  {
   "cell_type": "code",
   "execution_count": 24,
   "id": "03ab5360",
   "metadata": {},
   "outputs": [],
   "source": [
    "lr = LogisticRegression(C = 0.01, penalty = 'l2', solver = 'newton-cg')\n",
    "lr.fit(x_train,y_train)\n",
    "y_pred = lr.predict(x_test)"
   ]
  },
  {
   "cell_type": "code",
   "execution_count": 26,
   "id": "5f392b60",
   "metadata": {},
   "outputs": [
    {
     "data": {
      "text/plain": [
       "['lr_model.sav']"
      ]
     },
     "execution_count": 26,
     "metadata": {},
     "output_type": "execute_result"
    }
   ],
   "source": [
    "# Saving the model\n",
    "import joblib\n",
    " \n",
    "joblib.dump(lr, \"lr_model.sav\")"
   ]
  }
 ],
 "metadata": {
  "kernelspec": {
   "display_name": "Python 3 (ipykernel)",
   "language": "python",
   "name": "python3"
  },
  "language_info": {
   "codemirror_mode": {
    "name": "ipython",
    "version": 3
   },
   "file_extension": ".py",
   "mimetype": "text/x-python",
   "name": "python",
   "nbconvert_exporter": "python",
   "pygments_lexer": "ipython3",
   "version": "3.8.10"
  }
 },
 "nbformat": 4,
 "nbformat_minor": 5
}
